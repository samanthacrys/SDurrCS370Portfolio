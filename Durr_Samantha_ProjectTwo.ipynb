{
 "cells": [
  {
   "cell_type": "markdown",
   "metadata": {},
   "source": [
    "# Treasure Hunt Game Notebook\n",
    "\n",
    "## Read and Review Your Starter Code\n",
    "The theme of this project is a popular treasure hunt game in which the player needs to find the treasure before the pirate does. While you will not be developing the entire game, you will write the part of the game that represents the intelligent agent, which is a pirate in this case. The pirate will try to find the optimal path to the treasure using deep Q-learning. \n",
    "\n",
    "You have been provided with two Python classes and this notebook to help you with this assignment. The first class, TreasureMaze.py, represents the environment, which includes a maze object defined as a matrix. The second class, GameExperience.py, stores the episodes – that is, all the states that come in between the initial state and the terminal state. This is later used by the agent for learning by experience, called \"exploration\". This notebook shows how to play a game. Your task is to complete the deep Q-learning implementation for which a skeleton implementation has been provided. The code blocks you will need to complete has #TODO as a header.\n",
    "\n",
    "First, read and review the next few code and instruction blocks to understand the code that you have been given."
   ]
  },
  {
   "cell_type": "code",
   "execution_count": 19,
   "metadata": {},
   "outputs": [],
   "source": [
    "from __future__ import print_function\n",
    "import os, sys, time, datetime, json, random\n",
    "import numpy as np\n",
    "from keras.models import Sequential\n",
    "from keras.layers.core import Dense, Activation\n",
    "from keras.optimizers import SGD , Adam, RMSprop\n",
    "from keras.layers.advanced_activations import PReLU\n",
    "import matplotlib.pyplot as plt\n",
    "from TreasureMaze import TreasureMaze\n",
    "from GameExperience import GameExperience\n",
    "%matplotlib inline"
   ]
  },
  {
   "cell_type": "markdown",
   "metadata": {},
   "source": [
    "The following code block contains an 8x8 matrix that will be used as a maze object:"
   ]
  },
  {
   "cell_type": "code",
   "execution_count": 20,
   "metadata": {},
   "outputs": [],
   "source": [
    "maze = np.array([\n",
    "    [ 1.,  0.,  1.,  1.,  1.,  1.,  1.,  1.],\n",
    "    [ 1.,  0.,  1.,  1.,  1.,  0.,  1.,  1.],\n",
    "    [ 1.,  1.,  1.,  1.,  0.,  1.,  0.,  1.],\n",
    "    [ 1.,  1.,  1.,  0.,  1.,  1.,  1.,  1.],\n",
    "    [ 1.,  1.,  0.,  1.,  1.,  1.,  1.,  1.],\n",
    "    [ 1.,  1.,  1.,  0.,  1.,  0.,  0.,  0.],\n",
    "    [ 1.,  1.,  1.,  0.,  1.,  1.,  1.,  1.],\n",
    "    [ 1.,  1.,  1.,  1.,  0.,  1.,  1.,  1.]\n",
    "])"
   ]
  },
  {
   "cell_type": "markdown",
   "metadata": {},
   "source": [
    "This helper function allows a visual representation of the maze object:"
   ]
  },
  {
   "cell_type": "code",
   "execution_count": 21,
   "metadata": {},
   "outputs": [],
   "source": [
    "def show(qmaze):\n",
    "    plt.grid('on')\n",
    "    nrows, ncols = qmaze.maze.shape\n",
    "    ax = plt.gca()\n",
    "    ax.set_xticks(np.arange(0.5, nrows, 1))\n",
    "    ax.set_yticks(np.arange(0.5, ncols, 1))\n",
    "    ax.set_xticklabels([])\n",
    "    ax.set_yticklabels([])\n",
    "    canvas = np.copy(qmaze.maze)\n",
    "    for row,col in qmaze.visited:\n",
    "        canvas[row,col] = 0.6\n",
    "    pirate_row, pirate_col, _ = qmaze.state\n",
    "    canvas[pirate_row, pirate_col] = 0.3   # pirate cell\n",
    "    canvas[nrows-1, ncols-1] = 0.9 # treasure cell\n",
    "    img = plt.imshow(canvas, interpolation='none', cmap='gray')\n",
    "    return img"
   ]
  },
  {
   "cell_type": "markdown",
   "metadata": {},
   "source": [
    "The pirate agent can move in four directions: left, right, up, and down. \n",
    "\n",
    "While the agent primarily learns by experience through exploitation, often, the agent can choose to explore the environment to find previously undiscovered paths. This is called \"exploration\" and is defined by epsilon. This value is typically a lower value such as 0.1, which means for every ten attempts, the agent will attempt to learn by experience nine times and will randomly explore a new path one time. You are encouraged to try various values for the exploration factor and see how the algorithm performs."
   ]
  },
  {
   "cell_type": "code",
   "execution_count": 22,
   "metadata": {},
   "outputs": [],
   "source": [
    "LEFT = 0\n",
    "UP = 1\n",
    "RIGHT = 2\n",
    "DOWN = 3\n",
    "\n",
    "\n",
    "# Exploration factor\n",
    "epsilon = 0.1\n",
    "\n",
    "# Actions dictionary\n",
    "actions_dict = {\n",
    "    LEFT: 'left',\n",
    "    UP: 'up',\n",
    "    RIGHT: 'right',\n",
    "    DOWN: 'down',\n",
    "}\n",
    "\n",
    "num_actions = len(actions_dict)\n"
   ]
  },
  {
   "cell_type": "markdown",
   "metadata": {},
   "source": [
    "The sample code block and output below show creating a maze object and performing one action (DOWN), which returns the reward. The resulting updated environment is visualized."
   ]
  },
  {
   "cell_type": "code",
   "execution_count": 23,
   "metadata": {},
   "outputs": [
    {
     "name": "stdout",
     "output_type": "stream",
     "text": [
      "reward= -0.04\n"
     ]
    },
    {
     "data": {
      "text/plain": [
       "<matplotlib.image.AxesImage at 0x2606594cc48>"
      ]
     },
     "execution_count": 23,
     "metadata": {},
     "output_type": "execute_result"
    },
    {
     "data": {
      "image/png": "[encoded data removed]",
      "text/plain": [
       "<Figure size 432x288 with 1 Axes>"
      ]
     },
     "metadata": {
      "needs_background": "light"
     },
     "output_type": "display_data"
    }
   ],
   "source": [
    "qmaze = TreasureMaze(maze)\n",
    "canvas, reward, game_over = qmaze.act(DOWN)\n",
    "print(\"reward=\", reward)\n",
    "show(qmaze)"
   ]
  },
  {
   "cell_type": "markdown",
   "metadata": {},
   "source": [
    "This function simulates a full game based on the provided trained model. The other parameters include the TreasureMaze object and the starting position of the pirate."
   ]
  },
  {
   "cell_type": "code",
   "execution_count": 24,
   "metadata": {},
   "outputs": [],
   "source": [
    "def play_game(model, qmaze, pirate_cell):\n",
    "    qmaze.reset(pirate_cell)\n",
    "    envstate = qmaze.observe()\n",
    "    while True:\n",
    "        prev_envstate = envstate\n",
    "        # get next action\n",
    "        q = model.predict(prev_envstate)\n",
    "        action = np.argmax(q[0])\n",
    "\n",
    "        # apply action, get rewards and new state\n",
    "        envstate, reward, game_status = qmaze.act(action)\n",
    "        if game_status == 'win':\n",
    "            return True\n",
    "        elif game_status == 'lose':\n",
    "            return False"
   ]
  },
  {
   "cell_type": "markdown",
   "metadata": {},
   "source": [
    "This function helps you to determine whether the pirate can win any game at all. If your maze is not well designed, the pirate may not win any game at all. In this case, your training would not yield any result. The provided maze in this notebook ensures that there is a path to win and you can run this method to check."
   ]
  },
  {
   "cell_type": "code",
   "execution_count": 25,
   "metadata": {},
   "outputs": [],
   "source": [
    "def completion_check(model, qmaze):\n",
    "    for cell in qmaze.free_cells:\n",
    "        if not qmaze.valid_actions(cell):\n",
    "            return False\n",
    "        if not play_game(model, qmaze, cell):\n",
    "            return False\n",
    "    return True"
   ]
  },
  {
   "cell_type": "markdown",
   "metadata": {},
   "source": [
    "The code you have been given in this block will build the neural network model. Review the code and note the number of layers, as well as the activation, optimizer, and loss functions that are used to train the model."
   ]
  },
  {
   "cell_type": "code",
   "execution_count": 26,
   "metadata": {},
   "outputs": [],
   "source": [
    "def build_model(maze):\n",
    "    model = Sequential()\n",
    "    model.add(Dense(maze.size, input_shape=(maze.size,)))\n",
    "    model.add(PReLU())\n",
    "    model.add(Dense(maze.size))\n",
    "    model.add(PReLU())\n",
    "    model.add(Dense(num_actions))\n",
    "    model.compile(optimizer='adam', loss='mse')\n",
    "    return model"
   ]
  },
  {
   "cell_type": "markdown",
   "metadata": {},
   "source": [
    "# #TODO: Complete the Q-Training Algorithm Code Block\n",
    "\n",
    "This is your deep Q-learning implementation. The goal of your deep Q-learning implementation is to find the best possible navigation sequence that results in reaching the treasure cell while maximizing the reward. In your implementation, you need to determine the optimal number of epochs to achieve a 100% win rate.\n",
    "\n",
    "You will need to complete the section starting with #pseudocode. The pseudocode has been included for you."
   ]
  },
  {
   "cell_type": "code",
   "execution_count": 27,
   "metadata": {},
   "outputs": [],
   "source": [
    "def qtrain(model, maze, **opt):\n",
    "\n",
    "    # exploration factor\n",
    "    global epsilon \n",
    "\n",
    "    # number of epochs\n",
    "    n_epoch = opt.get('n_epoch', 15000)\n",
    "\n",
    "    # maximum memory to store episodes\n",
    "    max_memory = opt.get('max_memory', 1000)\n",
    "\n",
    "    # maximum data size for training\n",
    "    data_size = opt.get('data_size', 50)\n",
    "\n",
    "    # start time\n",
    "    start_time = datetime.datetime.now()\n",
    "\n",
    "    # Construct environment/game from numpy array: maze (see above)\n",
    "    qmaze = TreasureMaze(maze)\n",
    "\n",
    "    # Initialize experience replay object\n",
    "    experience = GameExperience(model, max_memory=max_memory)\n",
    "    \n",
    "    win_history = []   # history of win/lose game\n",
    "    hsize = qmaze.maze.size//2   # history window size\n",
    "    win_rate = 0.0\n",
    "    \n",
    "    #Beginning of Code from Samantha Durr\n",
    "    for epoch in range(n_epoch): # Loop through the different epochs.\n",
    "        agent_cell = qmaze.free_cells[np.random.randint(0, len(qmaze.free_cells))] #randomly select a free cell to run.\n",
    "        \n",
    "        qmaze.reset(agent_cell) # This resets the maze with the agent set to the above position. \n",
    "        \n",
    "        envstate = qmaze.observe() # this is the to set the envstate to the current state of the environment.\n",
    "        \n",
    "        n_episodes = 0 # Sets the number of episodes in an epoch to 0.\n",
    "        loss = 0.0 # This variable accumulates loss within an epoch.\n",
    "        \n",
    "        while True: # This states says that the game is not over while it is still true.\n",
    "            previous_envstate = envstate\n",
    "            \n",
    "            if np.random.rand() < epsilon: # This randomly chooses an action for exploration or exploitation.\n",
    "                action = np.random.choice([LEFT, UP, RIGHT, DOWN])\n",
    "            else: # This is to choose an action with the highest Q-Value.\n",
    "                q = model.predict(previous_envstate)\n",
    "                action = np.argmax(q[0])\n",
    "            \n",
    "            envstate, reward, game_status = qmaze.act(action) # Takes an action and observes the environment.\n",
    "            \n",
    "            episode = [previous_envstate, action, reward, envstate, game_status] # This stores the different states, actions, rewards, and status from the episode.\n",
    "            \n",
    "            experience.remember(episode)# Stores the episode's experience for the object to replay.\n",
    "            \n",
    "            inputs, targets = experience.get_data(data_size = data_size) # This trains the neural network and evaluates the loss.\n",
    "            if inputs is not None: # Gets the data for training from the experience replay.\n",
    "                loss += model.train_on_batch(inputs, targets) #This is to ensure that it fits the model.\n",
    "                \n",
    "            n_episodes += 1 # Increments the episode counter.\n",
    "            \n",
    "            # Checks the game status as either win or loss.\n",
    "            if game_status == 'win':\n",
    "                win_history.append(1) # Appends the win history.\n",
    "                win_rate = sum(win_history[-hsize:]) # Calculates the win rate.\n",
    "                break\n",
    "            elif game_status == 'lose': \n",
    "                win_history.append(0) # Appends the loss history.\n",
    "                win_rate = sum(win_history[-hsize:]) # Calculates the win rate.\n",
    "                break\n",
    "\n",
    "    #End of Code from Samantha Durr\n",
    "    \n",
    "    # pseudocode:\n",
    "    # For each epoch:\n",
    "    #    Agent_cell = randomly select a free cell\n",
    "    #    Reset the maze with agent set to above position\n",
    "    #    Hint: Review the reset method in the TreasureMaze.py class.\n",
    "    #    envstate = Environment.current_state\n",
    "    #    Hint: Review the observe method in the TreasureMaze.py class.\n",
    "    #    While state is not game over:\n",
    "    #        previous_envstate = envstate\n",
    "    #        Action = randomly choose action (left, right, up, down) either by exploration or by exploitation\n",
    "    #        envstate, reward, game_status = qmaze.act(action)\n",
    "    #    Hint: Review the act method in the TreasureMaze.py class.\n",
    "    #        episode = [previous_envstate, action, reward, envstate, game_status]\n",
    "    #        Store episode in Experience replay object\n",
    "    #    Hint: Review the remember method in the GameExperience.py class.\n",
    "    #        Train neural network model and evaluate loss\n",
    "    #    Hint: Call GameExperience.get_data to retrieve training data (input and target) and pass to model.fit method \n",
    "    #          to train the model. You can call model.evaluate to determine loss.\n",
    "    #    If the win rate is above the threshold and your model passes the completion check, that would be your epoch.\n",
    "\n",
    "\n",
    "    #Print the epoch, loss, episodes, win count, and win rate for each epoch\n",
    "        dt = datetime.datetime.now() - start_time\n",
    "        t = format_time(dt.total_seconds())\n",
    "        template = \"Epoch: {:03d}/{:d} | Loss: {:.4f} | Episodes: {:d} | Win count: {:d} | Win rate: {:.3f} | time: {}\"\n",
    "        print(template.format(epoch, n_epoch-1, loss, n_episodes, sum(win_history), win_rate, t))\n",
    "        # We simply check if training has exhausted all free cells and if in all\n",
    "        # cases the agent won.\n",
    "        if win_rate > 0.9 : epsilon = 0.05\n",
    "        if sum(win_history[-hsize:]) == hsize and completion_check(model, qmaze):\n",
    "            print(\"Reached 100%% win rate at epoch: %d\" % (epoch,))\n",
    "            break\n",
    "    \n",
    "    \n",
    "    # Determine the total time for training\n",
    "    dt = datetime.datetime.now() - start_time\n",
    "    seconds = dt.total_seconds()\n",
    "    t = format_time(seconds)\n",
    "\n",
    "    print(\"n_epoch: %d, max_mem: %d, data: %d, time: %s\" % (epoch, max_memory, data_size, t))\n",
    "    return seconds\n",
    "\n",
    "# This is a small utility for printing readable time strings:\n",
    "def format_time(seconds):\n",
    "    if seconds < 400:\n",
    "        s = float(seconds)\n",
    "        return \"%.1f seconds\" % (s,)\n",
    "    elif seconds < 4000:\n",
    "        m = seconds / 60.0\n",
    "        return \"%.2f minutes\" % (m,)\n",
    "    else:\n",
    "        h = seconds / 3600.0\n",
    "        return \"%.2f hours\" % (h,)"
   ]
  },
  {
   "cell_type": "markdown",
   "metadata": {},
   "source": [
    "## Test Your Model\n",
    "\n",
    "Now we will start testing the deep Q-learning implementation. To begin, select **Cell**, then **Run All** from the menu bar. This will run your notebook. As it runs, you should see output begin to appear beneath the next few cells. The code below creates an instance of TreasureMaze."
   ]
  },
  {
   "cell_type": "code",
   "execution_count": 28,
   "metadata": {},
   "outputs": [
    {
     "data": {
      "text/plain": [
       "<matplotlib.image.AxesImage at 0x26065988608>"
      ]
     },
     "execution_count": 28,
     "metadata": {},
     "output_type": "execute_result"
    },
    {
     "data": {
      "image/png": "[encoded data removed]",
      "text/plain": [
       "<Figure size 432x288 with 1 Axes>"
      ]
     },
     "metadata": {
      "needs_background": "light"
     },
     "output_type": "display_data"
    }
   ],
   "source": [
    "qmaze = TreasureMaze(maze)\n",
    "show(qmaze)"
   ]
  },
  {
   "cell_type": "markdown",
   "metadata": {},
   "source": [
    "In the next code block, you will build your model and train it using deep Q-learning. Note: This step takes several minutes to fully run."
   ]
  },
  {
   "cell_type": "code",
   "execution_count": 29,
   "metadata": {},
   "outputs": [
    {
     "name": "stdout",
     "output_type": "stream",
     "text": [
      "Epoch: 000/14999 | Loss: 0.2255 | Episodes: 10 | Win count: 1 | Win rate: 1.000 | time: 8.6 seconds\n",
      "Epoch: 001/14999 | Loss: 0.9411 | Episodes: 130 | Win count: 1 | Win rate: 1.000 | time: 19.6 seconds\n",
      "Epoch: 002/14999 | Loss: 0.2116 | Episodes: 135 | Win count: 1 | Win rate: 1.000 | time: 29.6 seconds\n",
      "Epoch: 003/14999 | Loss: 0.1607 | Episodes: 134 | Win count: 1 | Win rate: 1.000 | time: 40.0 seconds\n",
      "Epoch: 004/14999 | Loss: 0.0098 | Episodes: 2 | Win count: 2 | Win rate: 2.000 | time: 40.2 seconds\n",
      "Epoch: 005/14999 | Loss: 0.0484 | Episodes: 23 | Win count: 3 | Win rate: 3.000 | time: 41.9 seconds\n",
      "Epoch: 006/14999 | Loss: 0.2609 | Episodes: 137 | Win count: 3 | Win rate: 3.000 | time: 51.9 seconds\n",
      "Epoch: 007/14999 | Loss: 0.3003 | Episodes: 132 | Win count: 3 | Win rate: 3.000 | time: 61.6 seconds\n",
      "Epoch: 008/14999 | Loss: 0.0101 | Episodes: 5 | Win count: 4 | Win rate: 4.000 | time: 62.1 seconds\n",
      "Epoch: 009/14999 | Loss: 0.3943 | Episodes: 138 | Win count: 4 | Win rate: 4.000 | time: 72.2 seconds\n",
      "Epoch: 010/14999 | Loss: 0.0124 | Episodes: 2 | Win count: 5 | Win rate: 5.000 | time: 72.3 seconds\n",
      "Epoch: 011/14999 | Loss: 0.0007 | Episodes: 1 | Win count: 6 | Win rate: 6.000 | time: 72.4 seconds\n",
      "Epoch: 012/14999 | Loss: 0.4432 | Episodes: 138 | Win count: 6 | Win rate: 6.000 | time: 82.6 seconds\n",
      "Epoch: 013/14999 | Loss: 0.2466 | Episodes: 135 | Win count: 6 | Win rate: 6.000 | time: 92.2 seconds\n",
      "Epoch: 014/14999 | Loss: 0.2636 | Episodes: 137 | Win count: 6 | Win rate: 6.000 | time: 102.1 seconds\n",
      "Epoch: 015/14999 | Loss: 0.3052 | Episodes: 144 | Win count: 6 | Win rate: 6.000 | time: 112.5 seconds\n",
      "Epoch: 016/14999 | Loss: 0.1210 | Episodes: 146 | Win count: 6 | Win rate: 6.000 | time: 122.8 seconds\n",
      "Epoch: 017/14999 | Loss: 0.0065 | Episodes: 8 | Win count: 7 | Win rate: 7.000 | time: 123.5 seconds\n",
      "Epoch: 018/14999 | Loss: 0.1940 | Episodes: 139 | Win count: 7 | Win rate: 7.000 | time: 134.1 seconds\n",
      "Epoch: 019/14999 | Loss: 0.1792 | Episodes: 143 | Win count: 7 | Win rate: 7.000 | time: 145.3 seconds\n",
      "Epoch: 020/14999 | Loss: 0.2114 | Episodes: 141 | Win count: 7 | Win rate: 7.000 | time: 156.1 seconds\n",
      "Epoch: 021/14999 | Loss: 0.2077 | Episodes: 146 | Win count: 7 | Win rate: 7.000 | time: 169.0 seconds\n",
      "Epoch: 022/14999 | Loss: 0.1590 | Episodes: 140 | Win count: 7 | Win rate: 7.000 | time: 185.8 seconds\n",
      "Epoch: 023/14999 | Loss: 0.1799 | Episodes: 152 | Win count: 7 | Win rate: 7.000 | time: 203.1 seconds\n",
      "Epoch: 024/14999 | Loss: 0.1911 | Episodes: 150 | Win count: 7 | Win rate: 7.000 | time: 222.3 seconds\n",
      "Epoch: 025/14999 | Loss: 0.1798 | Episodes: 139 | Win count: 7 | Win rate: 7.000 | time: 232.4 seconds\n",
      "Epoch: 026/14999 | Loss: 0.1696 | Episodes: 134 | Win count: 7 | Win rate: 7.000 | time: 242.0 seconds\n",
      "Epoch: 027/14999 | Loss: 0.1380 | Episodes: 143 | Win count: 7 | Win rate: 7.000 | time: 252.1 seconds\n",
      "Epoch: 028/14999 | Loss: 0.0929 | Episodes: 135 | Win count: 7 | Win rate: 7.000 | time: 261.9 seconds\n",
      "Epoch: 029/14999 | Loss: 0.0825 | Episodes: 137 | Win count: 7 | Win rate: 7.000 | time: 272.0 seconds\n",
      "Epoch: 030/14999 | Loss: 0.0933 | Episodes: 138 | Win count: 7 | Win rate: 7.000 | time: 283.3 seconds\n",
      "Epoch: 031/14999 | Loss: 0.0984 | Episodes: 136 | Win count: 7 | Win rate: 7.000 | time: 293.3 seconds\n",
      "Epoch: 032/14999 | Loss: 0.1340 | Episodes: 154 | Win count: 7 | Win rate: 6.000 | time: 304.5 seconds\n",
      "Epoch: 033/14999 | Loss: 0.1639 | Episodes: 148 | Win count: 7 | Win rate: 6.000 | time: 315.6 seconds\n",
      "Epoch: 034/14999 | Loss: 0.1327 | Episodes: 138 | Win count: 7 | Win rate: 6.000 | time: 325.3 seconds\n",
      "Epoch: 035/14999 | Loss: 0.0106 | Episodes: 1 | Win count: 8 | Win rate: 7.000 | time: 325.4 seconds\n",
      "Epoch: 036/14999 | Loss: 0.0160 | Episodes: 8 | Win count: 9 | Win rate: 7.000 | time: 326.1 seconds\n",
      "Epoch: 037/14999 | Loss: 0.3796 | Episodes: 149 | Win count: 9 | Win rate: 6.000 | time: 337.4 seconds\n",
      "Epoch: 038/14999 | Loss: 0.0556 | Episodes: 28 | Win count: 10 | Win rate: 7.000 | time: 339.5 seconds\n",
      "Epoch: 039/14999 | Loss: 0.3558 | Episodes: 149 | Win count: 10 | Win rate: 7.000 | time: 350.9 seconds\n",
      "Epoch: 040/14999 | Loss: 0.3381 | Episodes: 140 | Win count: 10 | Win rate: 6.000 | time: 361.0 seconds\n",
      "Epoch: 041/14999 | Loss: 0.0430 | Episodes: 19 | Win count: 11 | Win rate: 7.000 | time: 362.4 seconds\n",
      "Epoch: 042/14999 | Loss: 0.1074 | Episodes: 42 | Win count: 12 | Win rate: 7.000 | time: 365.6 seconds\n",
      "Epoch: 043/14999 | Loss: 0.1124 | Episodes: 44 | Win count: 13 | Win rate: 7.000 | time: 368.7 seconds\n",
      "Epoch: 044/14999 | Loss: 0.2118 | Episodes: 81 | Win count: 14 | Win rate: 8.000 | time: 374.7 seconds\n",
      "Epoch: 045/14999 | Loss: 0.1980 | Episodes: 105 | Win count: 15 | Win rate: 9.000 | time: 382.4 seconds\n",
      "Epoch: 046/14999 | Loss: 0.2812 | Episodes: 151 | Win count: 15 | Win rate: 9.000 | time: 393.4 seconds\n",
      "Epoch: 047/14999 | Loss: 0.2643 | Episodes: 157 | Win count: 15 | Win rate: 9.000 | time: 6.75 minutes\n",
      "Epoch: 048/14999 | Loss: 0.0261 | Episodes: 19 | Win count: 16 | Win rate: 10.000 | time: 6.78 minutes\n",
      "Epoch: 049/14999 | Loss: 0.0895 | Episodes: 61 | Win count: 17 | Win rate: 10.000 | time: 6.86 minutes\n",
      "Epoch: 050/14999 | Loss: 0.1788 | Episodes: 135 | Win count: 17 | Win rate: 10.000 | time: 7.02 minutes\n",
      "Epoch: 051/14999 | Loss: 0.1262 | Episodes: 100 | Win count: 18 | Win rate: 11.000 | time: 7.14 minutes\n",
      "Epoch: 052/14999 | Loss: 0.1240 | Episodes: 86 | Win count: 19 | Win rate: 12.000 | time: 7.25 minutes\n",
      "Epoch: 053/14999 | Loss: 0.0452 | Episodes: 33 | Win count: 20 | Win rate: 13.000 | time: 7.29 minutes\n",
      "Epoch: 054/14999 | Loss: 0.1281 | Episodes: 87 | Win count: 21 | Win rate: 14.000 | time: 7.39 minutes\n",
      "Epoch: 055/14999 | Loss: 0.0935 | Episodes: 66 | Win count: 22 | Win rate: 15.000 | time: 7.47 minutes\n",
      "Epoch: 056/14999 | Loss: 0.0124 | Episodes: 10 | Win count: 23 | Win rate: 16.000 | time: 7.48 minutes\n",
      "Epoch: 057/14999 | Loss: 0.0905 | Episodes: 65 | Win count: 24 | Win rate: 17.000 | time: 7.56 minutes\n",
      "Epoch: 058/14999 | Loss: 0.0068 | Episodes: 5 | Win count: 25 | Win rate: 18.000 | time: 7.57 minutes\n",
      "Epoch: 059/14999 | Loss: 0.0249 | Episodes: 18 | Win count: 26 | Win rate: 19.000 | time: 7.59 minutes\n",
      "Epoch: 060/14999 | Loss: 0.0456 | Episodes: 30 | Win count: 27 | Win rate: 20.000 | time: 7.63 minutes\n",
      "Epoch: 061/14999 | Loss: 0.0387 | Episodes: 24 | Win count: 28 | Win rate: 21.000 | time: 7.66 minutes\n",
      "Epoch: 062/14999 | Loss: 0.2024 | Episodes: 135 | Win count: 29 | Win rate: 22.000 | time: 7.89 minutes\n",
      "Epoch: 063/14999 | Loss: 0.0415 | Episodes: 31 | Win count: 30 | Win rate: 23.000 | time: 7.95 minutes\n",
      "Epoch: 064/14999 | Loss: 0.0407 | Episodes: 28 | Win count: 31 | Win rate: 24.000 | time: 8.01 minutes\n",
      "Epoch: 065/14999 | Loss: 0.0275 | Episodes: 18 | Win count: 32 | Win rate: 25.000 | time: 8.04 minutes\n",
      "Epoch: 066/14999 | Loss: 0.0239 | Episodes: 19 | Win count: 33 | Win rate: 26.000 | time: 8.07 minutes\n",
      "Epoch: 067/14999 | Loss: 0.0199 | Episodes: 17 | Win count: 34 | Win rate: 26.000 | time: 8.10 minutes\n",
      "Epoch: 068/14999 | Loss: 0.0198 | Episodes: 15 | Win count: 35 | Win rate: 26.000 | time: 8.13 minutes\n",
      "Epoch: 069/14999 | Loss: 0.1105 | Episodes: 73 | Win count: 36 | Win rate: 27.000 | time: 8.27 minutes\n",
      "Epoch: 070/14999 | Loss: 0.0481 | Episodes: 39 | Win count: 37 | Win rate: 27.000 | time: 8.35 minutes\n",
      "Epoch: 071/14999 | Loss: 0.0715 | Episodes: 58 | Win count: 38 | Win rate: 28.000 | time: 8.46 minutes\n",
      "Epoch: 072/14999 | Loss: 0.0260 | Episodes: 22 | Win count: 39 | Win rate: 29.000 | time: 8.50 minutes\n",
      "Epoch: 073/14999 | Loss: 0.0244 | Episodes: 20 | Win count: 40 | Win rate: 29.000 | time: 8.54 minutes\n",
      "Epoch: 074/14999 | Loss: 0.0286 | Episodes: 28 | Win count: 41 | Win rate: 29.000 | time: 8.59 minutes\n",
      "Epoch: 075/14999 | Loss: 0.0209 | Episodes: 22 | Win count: 42 | Win rate: 29.000 | time: 8.64 minutes\n",
      "Epoch: 076/14999 | Loss: 0.0232 | Episodes: 23 | Win count: 43 | Win rate: 29.000 | time: 8.69 minutes\n",
      "Epoch: 077/14999 | Loss: 0.0397 | Episodes: 31 | Win count: 44 | Win rate: 29.000 | time: 8.73 minutes\n",
      "Epoch: 078/14999 | Loss: 0.0707 | Episodes: 62 | Win count: 45 | Win rate: 30.000 | time: 8.80 minutes\n",
      "Epoch: 079/14999 | Loss: 0.0082 | Episodes: 8 | Win count: 46 | Win rate: 31.000 | time: 8.81 minutes\n",
      "Epoch: 080/14999 | Loss: 0.0102 | Episodes: 9 | Win count: 47 | Win rate: 31.000 | time: 8.82 minutes\n",
      "Epoch: 081/14999 | Loss: 0.0166 | Episodes: 18 | Win count: 48 | Win rate: 31.000 | time: 8.85 minutes\n",
      "Epoch: 082/14999 | Loss: 0.0389 | Episodes: 35 | Win count: 49 | Win rate: 32.000 | time: 8.89 minutes\n",
      "Epoch: 083/14999 | Loss: 0.0277 | Episodes: 24 | Win count: 50 | Win rate: 32.000 | time: 8.92 minutes\n",
      "Epoch: 084/14999 | Loss: 0.0229 | Episodes: 20 | Win count: 51 | Win rate: 32.000 | time: 8.95 minutes\n",
      "Epoch: 085/14999 | Loss: 0.0229 | Episodes: 23 | Win count: 52 | Win rate: 32.000 | time: 8.98 minutes\n",
      "Epoch: 086/14999 | Loss: 0.0280 | Episodes: 32 | Win count: 53 | Win rate: 32.000 | time: 9.03 minutes\n",
      "Epoch: 087/14999 | Loss: 0.0182 | Episodes: 22 | Win count: 54 | Win rate: 32.000 | time: 9.06 minutes\n",
      "Epoch: 088/14999 | Loss: 0.0241 | Episodes: 24 | Win count: 55 | Win rate: 32.000 | time: 9.10 minutes\n",
      "Epoch: 089/14999 | Loss: 0.0223 | Episodes: 22 | Win count: 56 | Win rate: 32.000 | time: 9.13 minutes\n",
      "Epoch: 090/14999 | Loss: 0.0300 | Episodes: 32 | Win count: 57 | Win rate: 32.000 | time: 9.17 minutes\n",
      "Epoch: 091/14999 | Loss: 0.0109 | Episodes: 14 | Win count: 58 | Win rate: 32.000 | time: 9.19 minutes\n",
      "Epoch: 092/14999 | Loss: 0.0287 | Episodes: 42 | Win count: 59 | Win rate: 32.000 | time: 9.25 minutes\n",
      "Epoch: 093/14999 | Loss: 0.0116 | Episodes: 14 | Win count: 60 | Win rate: 32.000 | time: 9.27 minutes\n",
      "Epoch: 094/14999 | Loss: 0.0009 | Episodes: 1 | Win count: 61 | Win rate: 32.000 | time: 9.28 minutes\n",
      "Epoch: 095/14999 | Loss: 0.0076 | Episodes: 9 | Win count: 62 | Win rate: 32.000 | time: 9.29 minutes\n",
      "Epoch: 096/14999 | Loss: 0.0040 | Episodes: 5 | Win count: 63 | Win rate: 32.000 | time: 9.30 minutes\n",
      "Epoch: 097/14999 | Loss: 0.0156 | Episodes: 19 | Win count: 64 | Win rate: 32.000 | time: 9.33 minutes\n",
      "Epoch: 098/14999 | Loss: 0.0173 | Episodes: 23 | Win count: 65 | Win rate: 32.000 | time: 9.35 minutes\n",
      "Epoch: 099/14999 | Loss: 0.0162 | Episodes: 22 | Win count: 66 | Win rate: 32.000 | time: 9.39 minutes\n",
      "Epoch: 100/14999 | Loss: 0.0052 | Episodes: 8 | Win count: 67 | Win rate: 32.000 | time: 9.40 minutes\n",
      "Epoch: 101/14999 | Loss: 0.0033 | Episodes: 4 | Win count: 68 | Win rate: 32.000 | time: 9.41 minutes\n",
      "Epoch: 102/14999 | Loss: 0.0253 | Episodes: 29 | Win count: 69 | Win rate: 32.000 | time: 9.45 minutes\n",
      "Epoch: 103/14999 | Loss: 0.0147 | Episodes: 18 | Win count: 70 | Win rate: 32.000 | time: 9.48 minutes\n",
      "Epoch: 104/14999 | Loss: 0.0074 | Episodes: 12 | Win count: 71 | Win rate: 32.000 | time: 9.50 minutes\n",
      "Epoch: 105/14999 | Loss: 0.0062 | Episodes: 9 | Win count: 72 | Win rate: 32.000 | time: 9.52 minutes\n",
      "Epoch: 106/14999 | Loss: 0.0244 | Episodes: 32 | Win count: 73 | Win rate: 32.000 | time: 9.56 minutes\n",
      "Epoch: 107/14999 | Loss: 0.0030 | Episodes: 1 | Win count: 74 | Win rate: 32.000 | time: 9.57 minutes\n",
      "Epoch: 108/14999 | Loss: 0.0376 | Episodes: 34 | Win count: 75 | Win rate: 32.000 | time: 9.61 minutes\n",
      "Epoch: 109/14999 | Loss: 0.0756 | Episodes: 63 | Win count: 76 | Win rate: 32.000 | time: 9.69 minutes\n",
      "Epoch: 110/14999 | Loss: 0.0069 | Episodes: 6 | Win count: 77 | Win rate: 32.000 | time: 9.70 minutes\n",
      "Epoch: 111/14999 | Loss: 0.0734 | Episodes: 51 | Win count: 78 | Win rate: 32.000 | time: 9.77 minutes\n",
      "Epoch: 112/14999 | Loss: 0.0222 | Episodes: 13 | Win count: 79 | Win rate: 32.000 | time: 9.79 minutes\n",
      "Epoch: 113/14999 | Loss: 0.0287 | Episodes: 20 | Win count: 80 | Win rate: 32.000 | time: 9.82 minutes\n",
      "Epoch: 114/14999 | Loss: 0.0571 | Episodes: 31 | Win count: 81 | Win rate: 32.000 | time: 9.86 minutes\n",
      "Epoch: 115/14999 | Loss: 0.0224 | Episodes: 16 | Win count: 82 | Win rate: 32.000 | time: 9.88 minutes\n",
      "Epoch: 116/14999 | Loss: 0.0277 | Episodes: 23 | Win count: 83 | Win rate: 32.000 | time: 9.91 minutes\n",
      "Epoch: 117/14999 | Loss: 0.0202 | Episodes: 17 | Win count: 84 | Win rate: 32.000 | time: 9.93 minutes\n",
      "Epoch: 118/14999 | Loss: 0.0011 | Episodes: 1 | Win count: 85 | Win rate: 32.000 | time: 9.94 minutes\n",
      "Epoch: 119/14999 | Loss: 0.0164 | Episodes: 13 | Win count: 86 | Win rate: 32.000 | time: 9.96 minutes\n",
      "Epoch: 120/14999 | Loss: 0.0493 | Episodes: 43 | Win count: 87 | Win rate: 32.000 | time: 10.01 minutes\n",
      "Epoch: 121/14999 | Loss: 0.0242 | Episodes: 21 | Win count: 88 | Win rate: 32.000 | time: 10.04 minutes\n",
      "Epoch: 122/14999 | Loss: 0.0231 | Episodes: 22 | Win count: 89 | Win rate: 32.000 | time: 10.07 minutes\n",
      "Epoch: 123/14999 | Loss: 0.0053 | Episodes: 4 | Win count: 90 | Win rate: 32.000 | time: 10.08 minutes\n",
      "Epoch: 124/14999 | Loss: 0.0225 | Episodes: 20 | Win count: 91 | Win rate: 32.000 | time: 10.12 minutes\n",
      "Epoch: 125/14999 | Loss: 0.0379 | Episodes: 32 | Win count: 92 | Win rate: 32.000 | time: 10.16 minutes\n",
      "Epoch: 126/14999 | Loss: 0.0091 | Episodes: 7 | Win count: 93 | Win rate: 32.000 | time: 10.17 minutes\n",
      "Epoch: 127/14999 | Loss: 0.0576 | Episodes: 36 | Win count: 94 | Win rate: 32.000 | time: 10.22 minutes\n",
      "Epoch: 128/14999 | Loss: 0.0244 | Episodes: 22 | Win count: 95 | Win rate: 32.000 | time: 10.24 minutes\n",
      "Epoch: 129/14999 | Loss: 0.0206 | Episodes: 20 | Win count: 96 | Win rate: 32.000 | time: 10.28 minutes\n",
      "Epoch: 130/14999 | Loss: 0.0114 | Episodes: 11 | Win count: 97 | Win rate: 32.000 | time: 10.29 minutes\n",
      "Epoch: 131/14999 | Loss: 0.0261 | Episodes: 24 | Win count: 98 | Win rate: 32.000 | time: 10.33 minutes\n",
      "Epoch: 132/14999 | Loss: 0.0258 | Episodes: 25 | Win count: 99 | Win rate: 32.000 | time: 10.36 minutes\n",
      "Epoch: 133/14999 | Loss: 0.0388 | Episodes: 40 | Win count: 100 | Win rate: 32.000 | time: 10.41 minutes\n",
      "Epoch: 134/14999 | Loss: 0.0106 | Episodes: 10 | Win count: 101 | Win rate: 32.000 | time: 10.43 minutes\n",
      "Epoch: 135/14999 | Loss: 0.0083 | Episodes: 11 | Win count: 102 | Win rate: 32.000 | time: 10.44 minutes\n",
      "Epoch: 136/14999 | Loss: 0.0530 | Episodes: 65 | Win count: 103 | Win rate: 32.000 | time: 10.53 minutes\n",
      "Epoch: 137/14999 | Loss: 0.0295 | Episodes: 37 | Win count: 104 | Win rate: 32.000 | time: 10.58 minutes\n",
      "Epoch: 138/14999 | Loss: 0.0036 | Episodes: 5 | Win count: 105 | Win rate: 32.000 | time: 10.59 minutes\n",
      "Epoch: 139/14999 | Loss: 0.0025 | Episodes: 3 | Win count: 106 | Win rate: 32.000 | time: 10.61 minutes\n",
      "Epoch: 140/14999 | Loss: 0.0216 | Episodes: 33 | Win count: 107 | Win rate: 32.000 | time: 10.65 minutes\n",
      "Epoch: 141/14999 | Loss: 0.0230 | Episodes: 30 | Win count: 108 | Win rate: 32.000 | time: 10.69 minutes\n",
      "Epoch: 142/14999 | Loss: 0.0146 | Episodes: 22 | Win count: 109 | Win rate: 32.000 | time: 10.72 minutes\n",
      "Epoch: 143/14999 | Loss: 0.0223 | Episodes: 35 | Win count: 110 | Win rate: 32.000 | time: 10.78 minutes\n",
      "Epoch: 144/14999 | Loss: 0.0086 | Episodes: 14 | Win count: 111 | Win rate: 32.000 | time: 10.80 minutes\n",
      "Epoch: 145/14999 | Loss: 0.0148 | Episodes: 18 | Win count: 112 | Win rate: 32.000 | time: 10.83 minutes\n",
      "Epoch: 146/14999 | Loss: 0.0028 | Episodes: 3 | Win count: 113 | Win rate: 32.000 | time: 10.84 minutes\n",
      "Epoch: 147/14999 | Loss: 0.0093 | Episodes: 14 | Win count: 114 | Win rate: 32.000 | time: 10.86 minutes\n",
      "Epoch: 148/14999 | Loss: 0.0260 | Episodes: 33 | Win count: 115 | Win rate: 32.000 | time: 10.91 minutes\n",
      "Epoch: 149/14999 | Loss: 0.0135 | Episodes: 21 | Win count: 116 | Win rate: 32.000 | time: 10.94 minutes\n",
      "Epoch: 150/14999 | Loss: 0.0091 | Episodes: 12 | Win count: 117 | Win rate: 32.000 | time: 10.95 minutes\n",
      "Epoch: 151/14999 | Loss: 0.0042 | Episodes: 5 | Win count: 118 | Win rate: 32.000 | time: 10.96 minutes\n",
      "Epoch: 152/14999 | Loss: 0.0019 | Episodes: 2 | Win count: 119 | Win rate: 32.000 | time: 10.97 minutes\n",
      "Epoch: 153/14999 | Loss: 0.0104 | Episodes: 16 | Win count: 120 | Win rate: 32.000 | time: 10.99 minutes\n",
      "Epoch: 154/14999 | Loss: 0.0265 | Episodes: 42 | Win count: 121 | Win rate: 32.000 | time: 11.05 minutes\n",
      "Epoch: 155/14999 | Loss: 0.0342 | Episodes: 39 | Win count: 122 | Win rate: 32.000 | time: 11.09 minutes\n",
      "Epoch: 156/14999 | Loss: 0.0192 | Episodes: 19 | Win count: 123 | Win rate: 32.000 | time: 11.12 minutes\n",
      "Epoch: 157/14999 | Loss: 0.0462 | Episodes: 42 | Win count: 124 | Win rate: 32.000 | time: 11.17 minutes\n",
      "Epoch: 158/14999 | Loss: 0.0277 | Episodes: 27 | Win count: 125 | Win rate: 32.000 | time: 11.22 minutes\n",
      "Epoch: 159/14999 | Loss: 0.0176 | Episodes: 17 | Win count: 126 | Win rate: 32.000 | time: 11.24 minutes\n",
      "Epoch: 160/14999 | Loss: 0.0421 | Episodes: 40 | Win count: 127 | Win rate: 32.000 | time: 11.30 minutes\n",
      "Epoch: 161/14999 | Loss: 0.0009 | Episodes: 1 | Win count: 128 | Win rate: 32.000 | time: 11.30 minutes\n",
      "Epoch: 162/14999 | Loss: 0.0018 | Episodes: 2 | Win count: 129 | Win rate: 32.000 | time: 11.30 minutes\n",
      "Epoch: 163/14999 | Loss: 0.0015 | Episodes: 1 | Win count: 130 | Win rate: 32.000 | time: 11.31 minutes\n",
      "Epoch: 164/14999 | Loss: 0.0232 | Episodes: 24 | Win count: 131 | Win rate: 32.000 | time: 11.34 minutes\n",
      "Epoch: 165/14999 | Loss: 0.0152 | Episodes: 15 | Win count: 132 | Win rate: 32.000 | time: 11.36 minutes\n",
      "Epoch: 166/14999 | Loss: 0.0175 | Episodes: 20 | Win count: 133 | Win rate: 32.000 | time: 11.39 minutes\n",
      "Epoch: 167/14999 | Loss: 0.0135 | Episodes: 18 | Win count: 134 | Win rate: 32.000 | time: 11.41 minutes\n",
      "Epoch: 168/14999 | Loss: 0.0118 | Episodes: 15 | Win count: 135 | Win rate: 32.000 | time: 11.44 minutes\n",
      "Epoch: 169/14999 | Loss: 0.0261 | Episodes: 29 | Win count: 136 | Win rate: 32.000 | time: 11.47 minutes\n",
      "Epoch: 170/14999 | Loss: 0.0065 | Episodes: 5 | Win count: 137 | Win rate: 32.000 | time: 11.48 minutes\n",
      "Epoch: 171/14999 | Loss: 0.0138 | Episodes: 14 | Win count: 138 | Win rate: 32.000 | time: 11.50 minutes\n",
      "Epoch: 172/14999 | Loss: 0.0259 | Episodes: 30 | Win count: 139 | Win rate: 32.000 | time: 11.54 minutes\n",
      "Epoch: 173/14999 | Loss: 0.0255 | Episodes: 30 | Win count: 140 | Win rate: 32.000 | time: 11.58 minutes\n",
      "Epoch: 174/14999 | Loss: 0.0048 | Episodes: 5 | Win count: 141 | Win rate: 32.000 | time: 11.59 minutes\n",
      "Epoch: 175/14999 | Loss: 0.0190 | Episodes: 22 | Win count: 142 | Win rate: 32.000 | time: 11.62 minutes\n",
      "Epoch: 176/14999 | Loss: 0.0227 | Episodes: 25 | Win count: 143 | Win rate: 32.000 | time: 11.65 minutes\n",
      "Epoch: 177/14999 | Loss: 0.0110 | Episodes: 14 | Win count: 144 | Win rate: 32.000 | time: 11.67 minutes\n",
      "Epoch: 178/14999 | Loss: 0.0016 | Episodes: 2 | Win count: 145 | Win rate: 32.000 | time: 11.68 minutes\n",
      "Epoch: 179/14999 | Loss: 0.0268 | Episodes: 32 | Win count: 146 | Win rate: 32.000 | time: 11.72 minutes\n",
      "Epoch: 180/14999 | Loss: 0.0177 | Episodes: 24 | Win count: 147 | Win rate: 32.000 | time: 11.76 minutes\n",
      "Epoch: 181/14999 | Loss: 0.0258 | Episodes: 33 | Win count: 148 | Win rate: 32.000 | time: 11.80 minutes\n",
      "Epoch: 182/14999 | Loss: 0.0007 | Episodes: 1 | Win count: 149 | Win rate: 32.000 | time: 11.81 minutes\n",
      "Epoch: 183/14999 | Loss: 0.0008 | Episodes: 1 | Win count: 150 | Win rate: 32.000 | time: 11.82 minutes\n",
      "Epoch: 184/14999 | Loss: 0.0166 | Episodes: 26 | Win count: 151 | Win rate: 32.000 | time: 11.85 minutes\n",
      "Epoch: 185/14999 | Loss: 0.0020 | Episodes: 5 | Win count: 152 | Win rate: 32.000 | time: 11.87 minutes\n",
      "Epoch: 186/14999 | Loss: 0.0017 | Episodes: 3 | Win count: 153 | Win rate: 32.000 | time: 11.87 minutes\n",
      "Epoch: 187/14999 | Loss: 0.0045 | Episodes: 12 | Win count: 154 | Win rate: 32.000 | time: 11.89 minutes\n",
      "Epoch: 188/14999 | Loss: 0.0085 | Episodes: 20 | Win count: 155 | Win rate: 32.000 | time: 11.92 minutes\n",
      "Epoch: 189/14999 | Loss: 0.0007 | Episodes: 2 | Win count: 156 | Win rate: 32.000 | time: 11.93 minutes\n",
      "Epoch: 190/14999 | Loss: 0.0027 | Episodes: 7 | Win count: 157 | Win rate: 32.000 | time: 11.94 minutes\n",
      "Epoch: 191/14999 | Loss: 0.0125 | Episodes: 30 | Win count: 158 | Win rate: 32.000 | time: 11.99 minutes\n",
      "Epoch: 192/14999 | Loss: 0.0150 | Episodes: 27 | Win count: 159 | Win rate: 32.000 | time: 12.03 minutes\n",
      "Epoch: 193/14999 | Loss: 0.0158 | Episodes: 25 | Win count: 160 | Win rate: 32.000 | time: 12.06 minutes\n",
      "Epoch: 194/14999 | Loss: 0.0160 | Episodes: 25 | Win count: 161 | Win rate: 32.000 | time: 12.10 minutes\n",
      "Epoch: 195/14999 | Loss: 0.0009 | Episodes: 2 | Win count: 162 | Win rate: 32.000 | time: 12.11 minutes\n",
      "Epoch: 196/14999 | Loss: 0.0070 | Episodes: 11 | Win count: 163 | Win rate: 32.000 | time: 12.12 minutes\n",
      "Epoch: 197/14999 | Loss: 0.0138 | Episodes: 18 | Win count: 164 | Win rate: 32.000 | time: 12.15 minutes\n",
      "Epoch: 198/14999 | Loss: 0.0009 | Episodes: 1 | Win count: 165 | Win rate: 32.000 | time: 12.16 minutes\n",
      "Epoch: 199/14999 | Loss: 0.0037 | Episodes: 4 | Win count: 166 | Win rate: 32.000 | time: 12.17 minutes\n",
      "Epoch: 200/14999 | Loss: 0.0082 | Episodes: 11 | Win count: 167 | Win rate: 32.000 | time: 12.19 minutes\n",
      "Epoch: 201/14999 | Loss: 0.0011 | Episodes: 1 | Win count: 168 | Win rate: 32.000 | time: 12.19 minutes\n",
      "Epoch: 202/14999 | Loss: 0.0064 | Episodes: 10 | Win count: 169 | Win rate: 32.000 | time: 12.21 minutes\n",
      "Epoch: 203/14999 | Loss: 0.0163 | Episodes: 25 | Win count: 170 | Win rate: 32.000 | time: 12.24 minutes\n",
      "Epoch: 204/14999 | Loss: 0.0237 | Episodes: 45 | Win count: 171 | Win rate: 32.000 | time: 12.30 minutes\n",
      "Epoch: 205/14999 | Loss: 0.0299 | Episodes: 41 | Win count: 172 | Win rate: 32.000 | time: 12.36 minutes\n",
      "Epoch: 206/14999 | Loss: 0.0132 | Episodes: 16 | Win count: 173 | Win rate: 32.000 | time: 12.39 minutes\n",
      "Epoch: 207/14999 | Loss: 0.0173 | Episodes: 23 | Win count: 174 | Win rate: 32.000 | time: 12.42 minutes\n",
      "Epoch: 208/14999 | Loss: 0.0257 | Episodes: 30 | Win count: 175 | Win rate: 32.000 | time: 12.47 minutes\n",
      "Epoch: 209/14999 | Loss: 0.0198 | Episodes: 25 | Win count: 176 | Win rate: 32.000 | time: 12.50 minutes\n",
      "Epoch: 210/14999 | Loss: 0.0093 | Episodes: 13 | Win count: 177 | Win rate: 32.000 | time: 12.52 minutes\n",
      "Epoch: 211/14999 | Loss: 0.0036 | Episodes: 7 | Win count: 178 | Win rate: 32.000 | time: 12.53 minutes\n",
      "Epoch: 212/14999 | Loss: 0.0166 | Episodes: 24 | Win count: 179 | Win rate: 32.000 | time: 12.57 minutes\n",
      "Epoch: 213/14999 | Loss: 0.0035 | Episodes: 4 | Win count: 180 | Win rate: 32.000 | time: 12.57 minutes\n",
      "Epoch: 214/14999 | Loss: 0.0161 | Episodes: 25 | Win count: 181 | Win rate: 32.000 | time: 12.61 minutes\n",
      "Epoch: 215/14999 | Loss: 0.0124 | Episodes: 19 | Win count: 182 | Win rate: 32.000 | time: 12.64 minutes\n",
      "Epoch: 216/14999 | Loss: 0.0146 | Episodes: 18 | Win count: 183 | Win rate: 32.000 | time: 12.66 minutes\n",
      "Epoch: 217/14999 | Loss: 0.0087 | Episodes: 11 | Win count: 184 | Win rate: 32.000 | time: 12.68 minutes\n",
      "Epoch: 218/14999 | Loss: 0.0088 | Episodes: 16 | Win count: 185 | Win rate: 32.000 | time: 12.70 minutes\n",
      "Epoch: 219/14999 | Loss: 0.0142 | Episodes: 20 | Win count: 186 | Win rate: 32.000 | time: 12.73 minutes\n",
      "Epoch: 220/14999 | Loss: 0.0107 | Episodes: 17 | Win count: 187 | Win rate: 32.000 | time: 12.77 minutes\n",
      "Epoch: 221/14999 | Loss: 0.0005 | Episodes: 1 | Win count: 188 | Win rate: 32.000 | time: 12.78 minutes\n",
      "Epoch: 222/14999 | Loss: 0.0165 | Episodes: 26 | Win count: 189 | Win rate: 32.000 | time: 12.84 minutes\n",
      "Epoch: 223/14999 | Loss: 0.0125 | Episodes: 23 | Win count: 190 | Win rate: 32.000 | time: 12.88 minutes\n",
      "Epoch: 224/14999 | Loss: 0.0096 | Episodes: 19 | Win count: 191 | Win rate: 32.000 | time: 12.93 minutes\n",
      "Epoch: 225/14999 | Loss: 0.0147 | Episodes: 32 | Win count: 192 | Win rate: 32.000 | time: 13.00 minutes\n",
      "Epoch: 226/14999 | Loss: 0.0214 | Episodes: 35 | Win count: 193 | Win rate: 32.000 | time: 13.08 minutes\n",
      "Epoch: 227/14999 | Loss: 0.0170 | Episodes: 25 | Win count: 194 | Win rate: 32.000 | time: 13.14 minutes\n",
      "Epoch: 228/14999 | Loss: 0.0126 | Episodes: 23 | Win count: 195 | Win rate: 32.000 | time: 13.18 minutes\n",
      "Epoch: 229/14999 | Loss: 0.0122 | Episodes: 27 | Win count: 196 | Win rate: 32.000 | time: 13.24 minutes\n",
      "Epoch: 230/14999 | Loss: 0.0008 | Episodes: 1 | Win count: 197 | Win rate: 32.000 | time: 13.25 minutes\n",
      "Epoch: 231/14999 | Loss: 0.0101 | Episodes: 26 | Win count: 198 | Win rate: 32.000 | time: 13.30 minutes\n",
      "Epoch: 232/14999 | Loss: 0.0090 | Episodes: 25 | Win count: 199 | Win rate: 32.000 | time: 13.36 minutes\n",
      "Epoch: 233/14999 | Loss: 0.0006 | Episodes: 2 | Win count: 200 | Win rate: 32.000 | time: 13.36 minutes\n",
      "Epoch: 234/14999 | Loss: 0.0062 | Episodes: 16 | Win count: 201 | Win rate: 32.000 | time: 13.41 minutes\n",
      "Epoch: 235/14999 | Loss: 0.0105 | Episodes: 31 | Win count: 202 | Win rate: 32.000 | time: 13.47 minutes\n",
      "Epoch: 236/14999 | Loss: 0.0006 | Episodes: 2 | Win count: 203 | Win rate: 32.000 | time: 13.48 minutes\n",
      "Epoch: 237/14999 | Loss: 0.0064 | Episodes: 15 | Win count: 204 | Win rate: 32.000 | time: 13.51 minutes\n",
      "Epoch: 238/14999 | Loss: 0.0150 | Episodes: 30 | Win count: 205 | Win rate: 32.000 | time: 13.57 minutes\n",
      "Epoch: 239/14999 | Loss: 0.0044 | Episodes: 9 | Win count: 206 | Win rate: 32.000 | time: 13.59 minutes\n",
      "Epoch: 240/14999 | Loss: 0.0054 | Episodes: 13 | Win count: 207 | Win rate: 32.000 | time: 13.62 minutes\n",
      "Epoch: 241/14999 | Loss: 0.0074 | Episodes: 15 | Win count: 208 | Win rate: 32.000 | time: 13.65 minutes\n",
      "Epoch: 242/14999 | Loss: 0.0254 | Episodes: 43 | Win count: 209 | Win rate: 32.000 | time: 13.72 minutes\n",
      "Epoch: 243/14999 | Loss: 0.0126 | Episodes: 23 | Win count: 210 | Win rate: 32.000 | time: 13.75 minutes\n",
      "Epoch: 244/14999 | Loss: 0.0045 | Episodes: 7 | Win count: 211 | Win rate: 32.000 | time: 13.76 minutes\n",
      "Epoch: 245/14999 | Loss: 0.0195 | Episodes: 30 | Win count: 212 | Win rate: 32.000 | time: 13.81 minutes\n",
      "Epoch: 246/14999 | Loss: 0.0228 | Episodes: 29 | Win count: 213 | Win rate: 32.000 | time: 13.86 minutes\n",
      "Epoch: 247/14999 | Loss: 0.0378 | Episodes: 48 | Win count: 214 | Win rate: 32.000 | time: 13.93 minutes\n",
      "Epoch: 248/14999 | Loss: 0.0307 | Episodes: 33 | Win count: 215 | Win rate: 32.000 | time: 13.97 minutes\n",
      "Epoch: 249/14999 | Loss: 0.0259 | Episodes: 27 | Win count: 216 | Win rate: 32.000 | time: 14.01 minutes\n",
      "Epoch: 250/14999 | Loss: 0.0363 | Episodes: 39 | Win count: 217 | Win rate: 32.000 | time: 14.06 minutes\n",
      "Epoch: 251/14999 | Loss: 0.0254 | Episodes: 28 | Win count: 218 | Win rate: 32.000 | time: 14.10 minutes\n",
      "Epoch: 252/14999 | Loss: 0.0182 | Episodes: 21 | Win count: 219 | Win rate: 32.000 | time: 14.13 minutes\n",
      "Epoch: 253/14999 | Loss: 0.0019 | Episodes: 4 | Win count: 220 | Win rate: 32.000 | time: 14.14 minutes\n",
      "Epoch: 254/14999 | Loss: 0.0008 | Episodes: 1 | Win count: 221 | Win rate: 32.000 | time: 14.15 minutes\n",
      "Epoch: 255/14999 | Loss: 0.0243 | Episodes: 26 | Win count: 222 | Win rate: 32.000 | time: 14.19 minutes\n",
      "Epoch: 256/14999 | Loss: 0.0696 | Episodes: 62 | Win count: 223 | Win rate: 32.000 | time: 14.27 minutes\n",
      "Epoch: 257/14999 | Loss: 0.0946 | Episodes: 84 | Win count: 224 | Win rate: 32.000 | time: 14.38 minutes\n",
      "Epoch: 258/14999 | Loss: 0.0044 | Episodes: 4 | Win count: 225 | Win rate: 32.000 | time: 14.39 minutes\n",
      "Epoch: 259/14999 | Loss: 0.0387 | Episodes: 27 | Win count: 226 | Win rate: 32.000 | time: 14.43 minutes\n",
      "Epoch: 260/14999 | Loss: 0.0392 | Episodes: 35 | Win count: 227 | Win rate: 32.000 | time: 14.49 minutes\n",
      "Epoch: 261/14999 | Loss: 0.0405 | Episodes: 41 | Win count: 228 | Win rate: 32.000 | time: 14.55 minutes\n",
      "Epoch: 262/14999 | Loss: 0.0331 | Episodes: 33 | Win count: 229 | Win rate: 32.000 | time: 14.60 minutes\n",
      "Epoch: 263/14999 | Loss: 0.0251 | Episodes: 27 | Win count: 230 | Win rate: 32.000 | time: 14.66 minutes\n",
      "Epoch: 264/14999 | Loss: 0.0183 | Episodes: 23 | Win count: 231 | Win rate: 32.000 | time: 14.69 minutes\n",
      "Epoch: 265/14999 | Loss: 0.0096 | Episodes: 11 | Win count: 232 | Win rate: 32.000 | time: 14.71 minutes\n",
      "Epoch: 266/14999 | Loss: 0.0163 | Episodes: 17 | Win count: 233 | Win rate: 32.000 | time: 14.74 minutes\n",
      "Epoch: 267/14999 | Loss: 0.0169 | Episodes: 17 | Win count: 234 | Win rate: 32.000 | time: 14.76 minutes\n",
      "Epoch: 268/14999 | Loss: 0.0129 | Episodes: 16 | Win count: 235 | Win rate: 32.000 | time: 14.78 minutes\n",
      "Epoch: 269/14999 | Loss: 0.0226 | Episodes: 27 | Win count: 236 | Win rate: 32.000 | time: 14.82 minutes\n",
      "Epoch: 270/14999 | Loss: 0.0167 | Episodes: 27 | Win count: 237 | Win rate: 32.000 | time: 14.85 minutes\n",
      "Epoch: 271/14999 | Loss: 0.0380 | Episodes: 39 | Win count: 238 | Win rate: 32.000 | time: 14.90 minutes\n",
      "Epoch: 272/14999 | Loss: 0.0220 | Episodes: 16 | Win count: 239 | Win rate: 32.000 | time: 14.93 minutes\n",
      "Epoch: 273/14999 | Loss: 0.0138 | Episodes: 10 | Win count: 240 | Win rate: 32.000 | time: 14.94 minutes\n",
      "Epoch: 274/14999 | Loss: 0.0111 | Episodes: 12 | Win count: 241 | Win rate: 32.000 | time: 14.97 minutes\n",
      "Epoch: 275/14999 | Loss: 0.0011 | Episodes: 1 | Win count: 242 | Win rate: 32.000 | time: 14.97 minutes\n",
      "Epoch: 276/14999 | Loss: 0.0045 | Episodes: 5 | Win count: 243 | Win rate: 32.000 | time: 14.98 minutes\n",
      "Epoch: 277/14999 | Loss: 0.0299 | Episodes: 31 | Win count: 244 | Win rate: 32.000 | time: 15.02 minutes\n",
      "Epoch: 278/14999 | Loss: 0.0182 | Episodes: 20 | Win count: 245 | Win rate: 32.000 | time: 15.05 minutes\n",
      "Epoch: 279/14999 | Loss: 0.0009 | Episodes: 1 | Win count: 246 | Win rate: 32.000 | time: 15.05 minutes\n",
      "Epoch: 280/14999 | Loss: 0.0026 | Episodes: 3 | Win count: 247 | Win rate: 32.000 | time: 15.06 minutes\n",
      "Epoch: 281/14999 | Loss: 0.0395 | Episodes: 39 | Win count: 248 | Win rate: 32.000 | time: 15.12 minutes\n",
      "Epoch: 282/14999 | Loss: 0.0105 | Episodes: 13 | Win count: 249 | Win rate: 32.000 | time: 15.14 minutes\n",
      "Epoch: 283/14999 | Loss: 0.0197 | Episodes: 20 | Win count: 250 | Win rate: 32.000 | time: 15.17 minutes\n",
      "Epoch: 284/14999 | Loss: 0.0225 | Episodes: 25 | Win count: 251 | Win rate: 32.000 | time: 15.20 minutes\n",
      "Reached 100% win rate at epoch: 284\n",
      "n_epoch: 284, max_mem: 512, data: 32, time: 15.21 minutes\n"
     ]
    },
    {
     "data": {
      "text/plain": [
       "912.454831"
      ]
     },
     "execution_count": 29,
     "metadata": {},
     "output_type": "execute_result"
    }
   ],
   "source": [
    "model = build_model(maze)\n",
    "qtrain(model, maze, epochs=1000, max_memory=8*maze.size, data_size=32)"
   ]
  },
  {
   "cell_type": "markdown",
   "metadata": {},
   "source": [
    "This cell will check to see if the model passes the completion check. Note: This could take several minutes."
   ]
  },
  {
   "cell_type": "code",
   "execution_count": 30,
   "metadata": {},
   "outputs": [
    {
     "data": {
      "text/plain": [
       "<matplotlib.image.AxesImage at 0x2606c137708>"
      ]
     },
     "execution_count": 30,
     "metadata": {},
     "output_type": "execute_result"
    },
    {
     "data": {
      "image/png": "[encoded data removed]",
      "text/plain": [
       "<Figure size 432x288 with 1 Axes>"
      ]
     },
     "metadata": {
      "needs_background": "light"
     },
     "output_type": "display_data"
    }
   ],
   "source": [
    "completion_check(model, qmaze)\n",
    "show(qmaze)"
   ]
  },
  {
   "cell_type": "markdown",
   "metadata": {},
   "source": [
    "This cell will test your model for one game. It will start the pirate at the top-left corner and run play_game. The agent should find a path from the starting position to the target (treasure). The treasure is located in the bottom-right corner."
   ]
  },
  {
   "cell_type": "code",
   "execution_count": 31,
   "metadata": {},
   "outputs": [
    {
     "data": {
      "text/plain": [
       "<matplotlib.image.AxesImage at 0x2606d286d88>"
      ]
     },
     "execution_count": 31,
     "metadata": {},
     "output_type": "execute_result"
    },
    {
     "data": {
      "image/png": "[encoded data removed]",
      "text/plain": [
       "<Figure size 432x288 with 1 Axes>"
      ]
     },
     "metadata": {
      "needs_background": "light"
     },
     "output_type": "display_data"
    }
   ],
   "source": [
    "pirate_start = (0, 0)\n",
    "play_game(model, qmaze, pirate_start)\n",
    "show(qmaze)"
   ]
  },
  {
   "cell_type": "markdown",
   "metadata": {},
   "source": [
    "## Save and Submit Your Work\n",
    "After you have finished creating the code for your notebook, save your work. Make sure that your notebook contains your name in the filename (e.g. Doe_Jane_ProjectTwo.ipynb). This will help your instructor access and grade your work easily. Download a copy of your IPYNB file and submit it to Brightspace. Refer to the Jupyter Notebook in Apporto Tutorial if you need help with these tasks."
   ]
  }
 ],
 "metadata": {
  "kernelspec": {
   "display_name": "Python 3",
   "language": "python",
   "name": "python3"
  },
  "language_info": {
   "codemirror_mode": {
    "name": "ipython",
    "version": 3
   },
   "file_extension": ".py",
   "mimetype": "text/x-python",
   "name": "python",
   "nbconvert_exporter": "python",
   "pygments_lexer": "ipython3",
   "version": "3.7.4"
  }
 },
 "nbformat": 4,
 "nbformat_minor": 2
}
